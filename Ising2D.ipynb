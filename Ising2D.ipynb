{
 "cells": [
  {
   "cell_type": "markdown",
   "metadata": {},
   "source": [
    "# Ising2D\n",
    "\n",
    "This notebook contains code and examples to run interactive simulations of a 2D Ising model.\n",
    "\n",
    "First we'll import the two libraries we need: `numpy` and `matplotlib`."
   ]
  },
  {
   "cell_type": "code",
   "execution_count": 26,
   "metadata": {},
   "outputs": [],
   "source": [
    "from __future__ import division\n",
    "import numpy as np\n",
    "import matplotlib.pyplot as plt\n",
    "import ipywidgets"
   ]
  },
  {
   "cell_type": "markdown",
   "metadata": {},
   "source": [
    "Then we will define the basic functions that we need to do the sampling of the 2D Ising model.\n",
    "\n",
    "The first is the Metropolis function, which allows us to accept or reject a Monte Carlo step."
   ]
  },
  {
   "cell_type": "code",
   "execution_count": 2,
   "metadata": {},
   "outputs": [],
   "source": [
    "def metropolis (beta,H_initial,H_final) :\n",
    "    \"\"\"\n",
    "    Metropolis Monte Carlo basic step. User provides 'beta', the inverse\n",
    "    temperature, and the two energies 'H_initial' and 'H_final'. Returns\n",
    "    True or False depending on whether the move was accepted or rejected.\n",
    "    \"\"\"\n",
    "    if H_final <= H_initial :\n",
    "        return True\n",
    "    else :\n",
    "        if (np.random.rand() < np.exp (-beta*(H_final-H_initial))) :\n",
    "            return True\n",
    "        else :\n",
    "            return False"
   ]
  },
  {
   "cell_type": "markdown",
   "metadata": {},
   "source": [
    "We also need an auxiliary function that will allow us to enforce our site numbering scheme: translates the index of the spin to the row and column index of the lattice."
   ]
  },
  {
   "cell_type": "code",
   "execution_count": 3,
   "metadata": {},
   "outputs": [],
   "source": [
    "def site2d_idx(I, n) :\n",
    "    \"\"\"\n",
    "    Returns the row and column indices of site I on a lattice of\n",
    "    n spins per edge.\n",
    "    \"\"\"\n",
    "    return I//n, I%n"
   ]
  },
  {
   "cell_type": "markdown",
   "metadata": {},
   "source": [
    "We then define a class that contains all the necessary code to perform a Monte Carlo simulation of the model."
   ]
  },
  {
   "cell_type": "code",
   "execution_count": 27,
   "metadata": {},
   "outputs": [],
   "source": [
    "class TwoDIsingModel :\n",
    "    \n",
    "    def __init__(self, n, J, b, T, vis=False) :\n",
    "        \"\"\"\n",
    "        User initializes the class with the parameters:\n",
    "        - n: size of the edge of the lattice. Total number of\n",
    "             spins will be N = n*n\n",
    "        - J: the coupling strength between the spins\n",
    "        - b: the external field\n",
    "        - T: the temperature (unitless)\n",
    "        \n",
    "        Optional parameter:\n",
    "        - vis: True if we want to perform a live simulation\n",
    "        \"\"\"\n",
    "        \n",
    "        # initialize the parameters of the model\n",
    "        self.n = n\n",
    "        self.N = N = n*n\n",
    "        self.J = J\n",
    "        self.b = b\n",
    "        self.T = T\n",
    "        self.vis = vis\n",
    "        self.beta = 1.0/T\n",
    "        \n",
    "        # initialize the vector of spins\n",
    "        self.spins = np.random.choice([-1, 1], size=N)\n",
    "        \n",
    "        # prepare neighbors matrix\n",
    "        W = np.zeros((N,4), dtype=np.int32)\n",
    "        for I in xrange(N) :\n",
    "\n",
    "            # row and column index of this site\n",
    "            i,j = site2d_idx(I, n)\n",
    "\n",
    "            # connect site to its left neighbor\n",
    "            if j>0 :\n",
    "                W[I,0] = I-1\n",
    "            else :\n",
    "                W[I,0] = n-1+n*i\n",
    "\n",
    "            # connect site to its right neighbor\n",
    "            if j==n-1 :\n",
    "                W[I,1] = n*i\n",
    "            else :\n",
    "                W[I,1] = I+1\n",
    "\n",
    "            # connect site to its top neighbor\n",
    "            if i>0 :\n",
    "                W[I,2] = I-n\n",
    "            else :\n",
    "                W[I,2] = n*(n-1)+j\n",
    "\n",
    "            # connect site to its bottom neighbor\n",
    "            if i==n-1 :\n",
    "                W[I,3] = j\n",
    "            else :\n",
    "                W[I,3] = I+n\n",
    "        \n",
    "        # set it to an internal variable\n",
    "        self.neighbors = W\n",
    "        \n",
    "        # set the spin grid\n",
    "        self.s = np.zeros((self.n, self.n))\n",
    "        \n",
    "        # set the self image\n",
    "        if vis :\n",
    "            self.fig, self.ax = plt.subplots(dpi=100, figsize=(5,5))\n",
    "            plt.axis('off')\n",
    "            self.im = self.ax.imshow(self.spingrid, cmap=plt.cm.Greys)\n",
    "    \n",
    "    @property\n",
    "    def spingrid(self) :\n",
    "        for I in xrange(self.N) :\n",
    "            i,j = site2d_idx(I, self.n)\n",
    "            self.s[i,j] = self.spins[I]\n",
    "        return self.s\n",
    "    \n",
    "    @spingrid.setter\n",
    "    def spingrid(self, value) :\n",
    "        self.s = value\n",
    "    \n",
    "    def spin_energy(self, i) :\n",
    "        E = b\n",
    "        for j in self.neighbors[i] :\n",
    "            E += J*self.spins[j]\n",
    "        E *= -self.spins[i]\n",
    "        return E\n",
    "            \n",
    "    def step(self) :\n",
    "        \n",
    "        found = False\n",
    "        while not found :\n",
    "            # select one of the spins at random\n",
    "            n = np.random.randint(0, self.N)\n",
    "\n",
    "            # calculate the initial energy of the spin, then flip it\n",
    "            Ein = self.spin_energy(n)\n",
    "            self.spins[n] *= -1   # flip it\n",
    "\n",
    "            # calculate the final energy of the spin, \n",
    "            # and apply Metropolis criterion\n",
    "            Efin = self.spin_energy(n)\n",
    "            found = metropolis(self.beta, Ein, Efin)\n",
    "            \n",
    "            # if the Metropolis criterion fails to give a valid step, \n",
    "            # we put back the spin to its original state\n",
    "            if not found :\n",
    "                self.spins[n] *= -1\n",
    "    \n",
    "    def energy(self) :\n",
    "        return 0.5*sum([self.spin_energy(i) for i in xrange(self.N)])\n",
    "    \n",
    "    def run(self, nsteps, teq, tsample, tvis=1000) :\n",
    "        \n",
    "        # init vectors that will hold the sampling data\n",
    "        nsamples = int((nsteps-teq)/tsample)\n",
    "        self.m = np.zeros(nsamples)\n",
    "        self.e = np.zeros(nsamples)\n",
    "\n",
    "        # simulation loop\n",
    "        count = 0\n",
    "        for step in xrange(nsteps) :\n",
    "            \n",
    "            # make one step\n",
    "            self.step()\n",
    "        \n",
    "            # collect samples if the step is larger than\n",
    "            # the equilibration time and the step is a multiple\n",
    "            # of the sampling time\n",
    "            if step > teq and step%tsample==0 :\n",
    "                self.m[count] = self.spins.mean()\n",
    "                self.e[count] = self.energy()\n",
    "                count += 1\n",
    "            \n",
    "            # visualize if a suitable routine is passed\n",
    "            if self.vis :\n",
    "                if step%tvis==0 :\n",
    "                    self.visualize()\n",
    "        \n",
    "    def visualize(self) :\n",
    "        \"\"\"\n",
    "        Update the plot of the state of the system\n",
    "        \"\"\"\n",
    "        try :\n",
    "            self.im.set_data(self.spingrid)\n",
    "            self.fig.canvas.draw()\n",
    "        except AttributeError :\n",
    "            raise ValueError(\"Please init the class with 'vis=True'\")"
   ]
  },
  {
   "cell_type": "markdown",
   "metadata": {},
   "source": [
    "Now we have the code ready. The next thing is to initialize the `TwoDIsingModel` class with the parameters that we want, and run a simulation.\n",
    "\n",
    "We prepare the widgets from the `ipywidgets` library so we can control the parameters of the simulations easily."
   ]
  },
  {
   "cell_type": "code",
   "execution_count": 29,
   "metadata": {},
   "outputs": [
    {
     "data": {
      "application/vnd.jupyter.widget-view+json": {
       "model_id": "72026dfaf945448cae95f13e48f98a84",
       "version_major": 2,
       "version_minor": 0
      },
      "text/plain": [
       "aW50ZXJhY3RpdmUoY2hpbGRyZW49KERyb3Bkb3duKGRlc2NyaXB0aW9uPXUnTGF0dGljZSBzaXplJywgaW5kZXg9MSwgb3B0aW9ucz0oNjQsIDEyOCwgMjU2KSwgdmFsdWU9MTI4KSwgRmxvYXTigKY=\n"
      ]
     },
     "metadata": {},
     "output_type": "display_data"
    },
    {
     "data": {
      "text/plain": [
       "<function __main__.run_twoD_ising>"
      ]
     },
     "execution_count": 29,
     "metadata": {},
     "output_type": "execute_result"
    }
   ],
   "source": [
    "%matplotlib notebook\n",
    "\n",
    "# interval at which the simulation results are visualized\n",
    "nsteps = 100000\n",
    "teq = 10000\n",
    "tsample = 10000\n",
    "tvis = 1000\n",
    "\n",
    "# init the lattice of size N*N\n",
    "def run_twoD_ising(n, J, b, T) :\n",
    "    \n",
    "    # initialize the model\n",
    "    twoD_ising = TwoDIsingModel(n, J, b, T, vis=True)\n",
    "    \n",
    "    # run a simulation\n",
    "    twoD_ising.run(nsteps, teq, tsample, tvis)\n",
    "            \n",
    "n_options = ipywidgets.Dropdown(\n",
    "                                options=[64, 128, 256],\n",
    "                                value=128,\n",
    "                                description='Lattice size',\n",
    "                                disabled=False,\n",
    "                                )\n",
    "\n",
    "T_text = ipywidgets.FloatText(value=2.2,\n",
    "                              description='Temperature',\n",
    "                              disabled=False\n",
    "                              )\n",
    "\n",
    "b_text = ipywidgets.FloatText(value=0.0,\n",
    "                              description='Field',\n",
    "                              disabled=False\n",
    "                              )\n",
    "\n",
    "J_text = ipywidgets.FloatText(value=1.0,\n",
    "                              description='Coupling',\n",
    "                              disabled=False\n",
    "                              )\n",
    "\n",
    "ipywidgets.interact(run_twoD_ising,\n",
    "                    n=n_options,\n",
    "                    T=T_text,\n",
    "                    b=b_text,\n",
    "                    J=J_text)"
   ]
  }
 ],
 "metadata": {
  "kernelspec": {
   "display_name": "Python 2",
   "language": "python",
   "name": "python2"
  },
  "language_info": {
   "codemirror_mode": {
    "name": "ipython",
    "version": 2
   },
   "file_extension": ".py",
   "mimetype": "text/x-python",
   "name": "python",
   "nbconvert_exporter": "python",
   "pygments_lexer": "ipython2",
   "version": "2.7.11"
  }
 },
 "nbformat": 4,
 "nbformat_minor": 2
}
